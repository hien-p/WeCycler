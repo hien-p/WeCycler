{
 "cells": [
  {
   "cell_type": "markdown",
   "id": "17ac5984-8f2e-4be9-898a-86493aa7cd77",
   "metadata": {},
   "source": [
    "# Interact to Redis db"
   ]
  },
  {
   "cell_type": "code",
   "execution_count": 2,
   "id": "31364c18-1560-4577-a766-acbefc6679b4",
   "metadata": {},
   "outputs": [],
   "source": [
    "import sys\n",
    "import os\n",
    "from langchain.schema import Document\n",
    "from typing import Dict, List\n",
    "import json\n",
    "from langchain.docstore.document import Document\n",
    "from langchain.text_splitter import CharacterTextSplitter\n",
    "from langchain.vectorstores.redis import Redis\n",
    "\n",
    "sys.path.append('../')\n",
    "from botcore.setup import get_openai_embeddings, load_my_env\n",
    "\n",
    "\n",
    "class RedisVectorDB:\n",
    "\n",
    "    def __init__(self):\n",
    "        load_my_env()\n",
    "        self.embeddings = get_openai_embeddings()\n",
    "        self.url = os.getenv(\"REDIS_CLOUD\")\n",
    "        self.count = 0\n",
    "        self.redis = None\n",
    "        self.limit = 0.2\n",
    "        print(\"Vector DB is ready\")\n",
    "        \n",
    "    \n",
    "    def json_to_doc(self, data: Dict) -> Document:\n",
    "        \"\"\"\n",
    "            data = {\"title\": str, \"features\": [], \"post_id\": str, ...}\n",
    "        \"\"\"\n",
    "        feats = \", \".join([i for i in data['features']])\n",
    "        txt = f\"{data['title']}. {feats}\"\n",
    "        return Document(page_content=txt, metadata={\"post_id\": data['post_id'], \"user_id\": data['user_id']})\n",
    "\n",
    "    def add_new_wanted(self, data: Dict):\n",
    "        doc = self.json_to_doc(data)\n",
    "        return self.add_new_doc(doc, 'wanted')\n",
    "\n",
    "    def add_new_stock(self, data: Dict):\n",
    "        doc = self.json_to_doc(data)\n",
    "        return self.add_new_doc(doc, 'stock')\n",
    "    \n",
    "    def add_new_doc(self, doc: Document, index_name: str):\n",
    "        try:\n",
    "            if self.redis is None:\n",
    "                self.redis = Redis.from_documents([doc], self.embeddings, redis_url=self.url, index_name=index_name)\n",
    "            else: \n",
    "                self.redis.add_documents([doc])\n",
    "            return True\n",
    "        except:\n",
    "            print(\"An exception occurred when adding document\") \n",
    "            return False\n",
    "            \n",
    "    def search_wanted(self, query: str):\n",
    "        if self.redis is None:\n",
    "            print(\"Redis is not initialized. Please add a document first\")\n",
    "            return False\n",
    "        try:\n",
    "            results = self.redis.similarity_search_limit_score(query, score_threshold=self.limit)\n",
    "            return results\n",
    "        except:\n",
    "            print(\"Error occurred when finding documents\")\n",
    "            return False"
   ]
  },
  {
   "cell_type": "code",
   "execution_count": 3,
   "id": "d4c5726e-b8ce-4aeb-9abb-0ca74497b76b",
   "metadata": {},
   "outputs": [
    {
     "name": "stdout",
     "output_type": "stream",
     "text": [
      "OPEN AI Embedding ready\n",
      "Vector DB is ready\n"
     ]
    },
    {
     "data": {
      "text/plain": [
       "[True, True, True, True]"
      ]
     },
     "execution_count": 3,
     "metadata": {},
     "output_type": "execute_result"
    }
   ],
   "source": [
    "data = [{\n",
    "  \"post_id\": \"001\",\n",
    "  \"user_id\": \"A001\",\n",
    "  \"date\": \"3-7-2023\",\n",
    "  \"title\": \"I need a used laptop for my kid\",\n",
    "  \"features\": [\n",
    "    \"The laptop should have 4 GB RAM\",\n",
    "    \"The laptop's battery should be durable\",\n",
    "    \"The laptop should function normally\"\n",
    "  ]\n",
    "},{\n",
    "  \"post_id\": \"002\",\n",
    "  \"user_id\": \"A002\",\n",
    "  \"date\": \"20-7-2023\",\n",
    "  \"title\": \"I need a used rice cooker\",\n",
    "  \"features\": [\n",
    "    \"The rice cooker should not be damaged too much\",\n",
    "    \"The rice cooker should function normally\"\n",
    "  ]\n",
    "},{\n",
    "  \"post_id\": \"003\",\n",
    "  \"user_id\": \"A001\",\n",
    "  \"date\": \"20-7-2023\",\n",
    "  \"title\": \"We are in need of small children shirts\",\n",
    "  \"features\": [\n",
    "    \"The shirts should be for kid from 5 to 10 years old.\",\n",
    "    \"The shirts should be intact, and there are no damages.\",\n",
    "    \"The shirts should be clean.\"\n",
    "  ]\n",
    "},{\n",
    "  \"post_id\": \"004\",\n",
    "  \"user_id\": \"A003\",\n",
    "  \"date\": \"3-8-2023\",\n",
    "  \"title\": \"I need a used laptop for learning\",\n",
    "  \"features\": [\n",
    "    \"The laptop should have 8 GB RAM\",\n",
    "    \"The laptop should function normally\"\n",
    "  ]\n",
    "}]\n",
    "\n",
    "redis_db = RedisVectorDB()\n",
    "[redis_db.add_new_wanted(a) for a in data]"
   ]
  },
  {
   "cell_type": "code",
   "execution_count": 6,
   "id": "acf51268-ba7c-453b-a7ab-5b5ddad78a07",
   "metadata": {},
   "outputs": [
    {
     "data": {
      "text/plain": [
       "['__abstractmethods__',\n",
       " '__annotations__',\n",
       " '__class__',\n",
       " '__delattr__',\n",
       " '__dict__',\n",
       " '__dir__',\n",
       " '__doc__',\n",
       " '__eq__',\n",
       " '__format__',\n",
       " '__ge__',\n",
       " '__getattribute__',\n",
       " '__gt__',\n",
       " '__hash__',\n",
       " '__init__',\n",
       " '__init_subclass__',\n",
       " '__le__',\n",
       " '__lt__',\n",
       " '__module__',\n",
       " '__ne__',\n",
       " '__new__',\n",
       " '__reduce__',\n",
       " '__reduce_ex__',\n",
       " '__repr__',\n",
       " '__setattr__',\n",
       " '__sizeof__',\n",
       " '__slots__',\n",
       " '__str__',\n",
       " '__subclasshook__',\n",
       " '__weakref__',\n",
       " '_abc_impl',\n",
       " '_create_index',\n",
       " '_prepare_query',\n",
       " '_similarity_search_with_relevance_scores',\n",
       " 'aadd_documents',\n",
       " 'aadd_texts',\n",
       " 'add_documents',\n",
       " 'add_texts',\n",
       " 'afrom_documents',\n",
       " 'afrom_texts',\n",
       " 'amax_marginal_relevance_search',\n",
       " 'amax_marginal_relevance_search_by_vector',\n",
       " 'as_retriever',\n",
       " 'asearch',\n",
       " 'asimilarity_search',\n",
       " 'asimilarity_search_by_vector',\n",
       " 'asimilarity_search_with_relevance_scores',\n",
       " 'client',\n",
       " 'content_key',\n",
       " 'drop_index',\n",
       " 'embedding_function',\n",
       " 'from_documents',\n",
       " 'from_existing_index',\n",
       " 'from_texts',\n",
       " 'from_texts_return_keys',\n",
       " 'index_name',\n",
       " 'max_marginal_relevance_search',\n",
       " 'max_marginal_relevance_search_by_vector',\n",
       " 'metadata_key',\n",
       " 'relevance_score_fn',\n",
       " 'search',\n",
       " 'similarity_search',\n",
       " 'similarity_search_by_vector',\n",
       " 'similarity_search_limit_score',\n",
       " 'similarity_search_with_relevance_scores',\n",
       " 'similarity_search_with_score',\n",
       " 'vector_key']"
      ]
     },
     "execution_count": 6,
     "metadata": {},
     "output_type": "execute_result"
    }
   ],
   "source": [
    "dir(redis_db.redis)"
   ]
  },
  {
   "cell_type": "code",
   "execution_count": 3,
   "id": "9f5c39a1-c83b-43ea-a8f3-460670c7617b",
   "metadata": {},
   "outputs": [
    {
     "data": {
      "text/plain": [
       "[Document(page_content='I need a used laptop for learning. The laptop should have 8 GB RAM, The laptop should function normally', metadata={'post_id': '004', 'user_id': 'A003'}),\n",
       " Document(page_content=\"I need a used laptop for my kid. The laptop should have 4 GB RAM, The laptop's battery should be durable, The laptop should function normally\", metadata={'post_id': '001', 'user_id': 'A001'})]"
      ]
     },
     "execution_count": 3,
     "metadata": {},
     "output_type": "execute_result"
    }
   ],
   "source": [
    "b = redis_db.search_wanted(\"I have an old Asus laptop. It has 8 GB RAM.\")\n",
    "b"
   ]
  },
  {
   "cell_type": "code",
   "execution_count": 23,
   "id": "f3c01ee4-2713-4b7a-ad1d-784da2805450",
   "metadata": {},
   "outputs": [
    {
     "data": {
      "text/plain": [
       "['__abstractmethods__',\n",
       " '__annotations__',\n",
       " '__class__',\n",
       " '__delattr__',\n",
       " '__dict__',\n",
       " '__dir__',\n",
       " '__doc__',\n",
       " '__eq__',\n",
       " '__format__',\n",
       " '__ge__',\n",
       " '__getattribute__',\n",
       " '__gt__',\n",
       " '__hash__',\n",
       " '__init__',\n",
       " '__init_subclass__',\n",
       " '__le__',\n",
       " '__lt__',\n",
       " '__module__',\n",
       " '__ne__',\n",
       " '__new__',\n",
       " '__reduce__',\n",
       " '__reduce_ex__',\n",
       " '__repr__',\n",
       " '__setattr__',\n",
       " '__sizeof__',\n",
       " '__slots__',\n",
       " '__str__',\n",
       " '__subclasshook__',\n",
       " '__weakref__',\n",
       " '_abc_impl',\n",
       " '_create_index',\n",
       " '_prepare_query',\n",
       " '_similarity_search_with_relevance_scores',\n",
       " 'aadd_documents',\n",
       " 'aadd_texts',\n",
       " 'add_documents',\n",
       " 'add_texts',\n",
       " 'afrom_documents',\n",
       " 'afrom_texts',\n",
       " 'amax_marginal_relevance_search',\n",
       " 'amax_marginal_relevance_search_by_vector',\n",
       " 'as_retriever',\n",
       " 'asearch',\n",
       " 'asimilarity_search',\n",
       " 'asimilarity_search_by_vector',\n",
       " 'asimilarity_search_with_relevance_scores',\n",
       " 'client',\n",
       " 'content_key',\n",
       " 'drop_index',\n",
       " 'embedding_function',\n",
       " 'from_documents',\n",
       " 'from_existing_index',\n",
       " 'from_texts',\n",
       " 'from_texts_return_keys',\n",
       " 'index_name',\n",
       " 'max_marginal_relevance_search',\n",
       " 'max_marginal_relevance_search_by_vector',\n",
       " 'metadata_key',\n",
       " 'relevance_score_fn',\n",
       " 'search',\n",
       " 'similarity_search',\n",
       " 'similarity_search_by_vector',\n",
       " 'similarity_search_limit_score',\n",
       " 'similarity_search_with_relevance_scores',\n",
       " 'similarity_search_with_score',\n",
       " 'vector_key']"
      ]
     },
     "execution_count": 23,
     "metadata": {},
     "output_type": "execute_result"
    }
   ],
   "source": [
    "dir(redis_db.redis)"
   ]
  },
  {
   "cell_type": "markdown",
   "id": "fec2dfb1-8012-4c66-bed6-65dcaf3167cb",
   "metadata": {},
   "source": [
    "# run"
   ]
  },
  {
   "cell_type": "code",
   "execution_count": 3,
   "id": "7b46c11a-7b1e-4070-bb8d-d6942474b8e4",
   "metadata": {},
   "outputs": [
    {
     "name": "stdout",
     "output_type": "stream",
     "text": [
      "OPEN AI Embedding ready\n",
      "Vector DB is ready\n"
     ]
    },
    {
     "data": {
      "text/plain": [
       "[True, True, True, True]"
      ]
     },
     "execution_count": 3,
     "metadata": {},
     "output_type": "execute_result"
    }
   ],
   "source": [
    "import sys\n",
    "import os\n",
    "sys.path.append(f'../')\n",
    "from botcore.bot_redis import RedisVectorDB\n",
    "from botcore.test_data import TEST_WANTED_DATA \n",
    "\n",
    "redis_db = RedisVectorDB()\n",
    "data = TEST_WANTED_DATA\n",
    "\n",
    "[redis_db.add_new_wanted(a) for a in data]"
   ]
  },
  {
   "cell_type": "code",
   "execution_count": 4,
   "id": "b87d6c0e-1261-4150-9646-d3a84156e6fb",
   "metadata": {},
   "outputs": [
    {
     "data": {
      "text/plain": [
       "[{'post_id': '001',\n",
       "  'user_id': 'A001',\n",
       "  'date': '3-7-2023',\n",
       "  'title': 'I need a used laptop for my kid',\n",
       "  'features': ['The laptop should have 4 GB RAM',\n",
       "   \"The laptop's battery should be durable\",\n",
       "   'The laptop should function normally']},\n",
       " {'post_id': '002',\n",
       "  'user_id': 'A002',\n",
       "  'date': '20-7-2023',\n",
       "  'title': 'I need a used rice cooker',\n",
       "  'features': ['The rice cooker should not be damaged too much',\n",
       "   'The rice cooker should function normally']},\n",
       " {'post_id': '003',\n",
       "  'user_id': 'A001',\n",
       "  'date': '20-7-2023',\n",
       "  'title': 'We are in need of small children shirts',\n",
       "  'features': ['The shirts should be for kid from 5 to 10 years old.',\n",
       "   'The shirts should be intact, and there are no damages.',\n",
       "   'The shirts should be clean.']},\n",
       " {'post_id': '004',\n",
       "  'user_id': 'A003',\n",
       "  'date': '3-8-2023',\n",
       "  'title': 'I need a used laptop for learning',\n",
       "  'features': ['The laptop should have 8 GB RAM',\n",
       "   'The laptop should function normally']}]"
      ]
     },
     "execution_count": 4,
     "metadata": {},
     "output_type": "execute_result"
    }
   ],
   "source": [
    "data"
   ]
  },
  {
   "cell_type": "code",
   "execution_count": 5,
   "id": "c6a1d8ae-4576-4324-a52e-7af898af035d",
   "metadata": {},
   "outputs": [
    {
     "name": "stdout",
     "output_type": "stream",
     "text": [
      "[Document(page_content=\"I need a used laptop for my kid. The laptop should have 4 GB RAM, The laptop's battery should be durable, The laptop should function normally\", metadata={'type': 'wanted'}), Document(page_content='I need a used laptop for learning. The laptop should have 8 GB RAM, The laptop should function normally', metadata={'type': 'wanted'})]\n"
     ]
    }
   ],
   "source": [
    "# after user input\n",
    "\n",
    "data = {\"title\": \"I have an old phone\", \"features\": [\"My laptop has 4 GB RAM\", \"Is it function well? Well\", \"Does it have warranty: Yes\"]}\n",
    "\n",
    "b = redis_db.search_wanted(data)\n",
    "print(b)"
   ]
  },
  {
   "cell_type": "code",
   "execution_count": 6,
   "id": "528a51a8-2060-45ad-9337-ea47ab192e57",
   "metadata": {},
   "outputs": [
    {
     "data": {
      "text/plain": [
       "list"
      ]
     },
     "execution_count": 6,
     "metadata": {},
     "output_type": "execute_result"
    }
   ],
   "source": [
    "type(b)"
   ]
  },
  {
   "cell_type": "code",
   "execution_count": null,
   "id": "3c097048-57da-4a75-9612-e11951f72d8d",
   "metadata": {},
   "outputs": [],
   "source": []
  }
 ],
 "metadata": {
  "kernelspec": {
   "display_name": "Python 3 (ipykernel)",
   "language": "python",
   "name": "python3"
  },
  "language_info": {
   "codemirror_mode": {
    "name": "ipython",
    "version": 3
   },
   "file_extension": ".py",
   "mimetype": "text/x-python",
   "name": "python",
   "nbconvert_exporter": "python",
   "pygments_lexer": "ipython3",
   "version": "3.10.6"
  }
 },
 "nbformat": 4,
 "nbformat_minor": 5
}
