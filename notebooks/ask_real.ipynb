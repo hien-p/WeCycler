{
 "cells": [
  {
   "cell_type": "code",
   "execution_count": 8,
   "id": "e7d1533d-cc2a-4dbd-83be-d2ec50542061",
   "metadata": {},
   "outputs": [
    {
     "name": "stdout",
     "output_type": "stream",
     "text": [
      "AI21 ready\n",
      "Enable tracing at ask_demo\n",
      "Features explorer ready\n"
     ]
    }
   ],
   "source": [
    "import sys\n",
    "sys.path.append('../')\n",
    "from botcore.setup import get_ai21_model, enable_tracing\n",
    "from botcore.bot_redis import connect_redis\n",
    "from botcore.routing.explore_route import FeatureExplorer\n",
    "\n",
    "\n",
    "MODEL = get_ai21_model(max_tokens = 400)\n",
    "enable_tracing(\"ask_demo\")\n",
    "\n",
    "db = connect_redis()\n",
    "explorer = FeatureExplorer(MODEL, db)"
   ]
  },
  {
   "cell_type": "code",
   "execution_count": 12,
   "id": "cd7cd549-77f6-4af6-a0fe-f35d879ee0d1",
   "metadata": {},
   "outputs": [],
   "source": [
    "product = 'washing machine'\n",
    "feat, cond = explorer.ask_user(product, 4)"
   ]
  },
  {
   "cell_type": "code",
   "execution_count": 13,
   "id": "a1bf5c6c-00a8-45d0-a0a0-5e368ec39533",
   "metadata": {},
   "outputs": [
    {
     "data": {
      "text/plain": [
       "[{'question': 'What is the maximum load capacity of the washing machine?',\n",
       "  'options': ['5 kg', '7 kg', '10 kg', '12 kg', '15 kg']},\n",
       " {'question': 'What is the maximum spin speed of the washing machine?',\n",
       "  'options': ['1000 rpm', '1200 rpm', '1400 rpm', '1600 rpm', '1800 rpm']},\n",
       " {'question': 'What is the energy efficiency rating of the washing machine?',\n",
       "  'options': ['A+++', 'A++', 'A+', 'A', 'B']},\n",
       " {'question': 'What is the water consumption of the washing machine?',\n",
       "  'options': ['10 liters',\n",
       "   '15 liters',\n",
       "   '20 liters',\n",
       "   '25 liters',\n",
       "   '30 liters']}]"
      ]
     },
     "execution_count": 13,
     "metadata": {},
     "output_type": "execute_result"
    }
   ],
   "source": [
    "feat['questions']"
   ]
  },
  {
   "cell_type": "code",
   "execution_count": 14,
   "id": "43f2cdab-6801-42e4-97ce-c27a2bec565b",
   "metadata": {},
   "outputs": [
    {
     "data": {
      "text/plain": [
       "[{'question': 'Is the washing machine working properly?',\n",
       "  'options': ['Yes', 'No']},\n",
       " {'question': 'Are there any defects or malfunctions?',\n",
       "  'options': ['Yes', 'No']},\n",
       " {'question': 'What is the current physical condition of the washing machine?',\n",
       "  'options': ['Excellent', 'Good', 'Fair', 'Poor']},\n",
       " {'question': 'Is the washing machine still under warranty?',\n",
       "  'options': ['Yes', 'No']}]"
      ]
     },
     "execution_count": 14,
     "metadata": {},
     "output_type": "execute_result"
    }
   ],
   "source": [
    "cond['questions']"
   ]
  }
 ],
 "metadata": {
  "kernelspec": {
   "display_name": "Python 3 (ipykernel)",
   "language": "python",
   "name": "python3"
  },
  "language_info": {
   "codemirror_mode": {
    "name": "ipython",
    "version": 3
   },
   "file_extension": ".py",
   "mimetype": "text/x-python",
   "name": "python",
   "nbconvert_exporter": "python",
   "pygments_lexer": "ipython3",
   "version": "3.10.6"
  }
 },
 "nbformat": 4,
 "nbformat_minor": 5
}
