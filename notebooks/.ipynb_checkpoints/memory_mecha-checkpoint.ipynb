{
 "cells": [
  {
   "cell_type": "markdown",
   "id": "686c08d1-6373-4ebf-b446-2f75e2a295e3",
   "metadata": {},
   "source": [
    "# Memory mechanism\n",
    "\n",
    "Testing on electronics only\n",
    "\n",
    "Its job:\n",
    "1. push data to it\n",
    "2. push it to a chain\n",
    "3. ask the chain to summarize"
   ]
  },
  {
   "cell_type": "code",
   "execution_count": 1,
   "id": "e805f25d-c884-490c-83d5-5e833c2f8a95",
   "metadata": {},
   "outputs": [
    {
     "name": "stdout",
     "output_type": "stream",
     "text": [
      "AI21 ready\n",
      "Enable tracing at mem_mecha\n"
     ]
    }
   ],
   "source": [
    "import sys\n",
    "sys.path.append('../')\n",
    "from botcore.setup import get_ai21_model, enable_tracing\n",
    "from botcore.chains.qa_feature import build_ask_feature_chain\n",
    "from botcore.chains.qa_elec_condition import build_ask_electronic_condition_chain\n",
    "\n",
    "MODEL = get_ai21_model(max_tokens = 400)\n",
    "enable_tracing(\"mem_mecha\")\n",
    "\n",
    "ask_feature = build_ask_feature_chain(MODEL)\n",
    "ask_condition = build_ask_electronic_condition_chain(MODEL)"
   ]
  },
  {
   "cell_type": "code",
   "execution_count": 3,
   "id": "1ce14064-bcae-47b0-ac1d-526942de8983",
   "metadata": {},
   "outputs": [
    {
     "data": {
      "text/plain": [
       "{'product': 'laptop',\n",
       " 'n_top': 3,\n",
       " 'result': '\\n\\n```json\\n[\\n {\\n  \"question\": \"What is the screen size?\",\\n  \"options\": [\\n   \"14 inch\",\\n   \"15.6 inch\",\\n   \"13.3 inch\",\\n   \"17.3 inch\",\\n   \"11.6 inch\"\\n  ]\\n },\\n {\\n  \"question\": \"What is the RAM size?\",\\n  \"options\": [\\n   \"4 GB\",\\n   \"8 GB\",\\n   \"16 GB\",\\n   \"32 GB\",\\n   \"64 GB\"\\n  ]\\n },\\n {\\n  \"question\": \"What is the processor speed?\",\\n  \"options\": [\\n   \"2.5 GHz\",\\n   \"3.0 GHz\",\\n   \"2.0 GHz\",\\n   \"1.5 GHz\",\\n   \"1.0 GHz\"\\n  ]\\n }\\n]\\n```'}"
      ]
     },
     "execution_count": 3,
     "metadata": {},
     "output_type": "execute_result"
    }
   ],
   "source": [
    "product = \"laptop\"\n",
    "n = 3\n",
    "features = ask_feature({\"product\": product, \"n_top\": n})\n",
    "features"
   ]
  },
  {
   "cell_type": "code",
   "execution_count": 4,
   "id": "62fd059d-cc33-486f-8008-94cef8276cc6",
   "metadata": {},
   "outputs": [
    {
     "data": {
      "text/plain": [
       "{'product': 'laptop',\n",
       " 'n_top': 3,\n",
       " 'result': '\\n\\n```json\\n[\\n  {\\n    \"question\": \"What are the noticeable malfunctions?\",\\n    \"options\": [\\n      \"The laptop does not power on.\",\\n      \"The laptop is very slow.\",\\n      \"The laptop has missing keys.\"\\n    ]\\n  },\\n  {\\n    \"question\": \"What are the physical damages?\",\\n    \"options\": [\\n      \"The laptop is cracked.\",\\n      \"The laptop is dented.\",\\n      \"The laptop is scratched.\"\\n    ]\\n  },\\n  {\\n    \"question\": \"Is the warranty valid?\",\\n    \"options\": [\\n      \"Yes, the warranty is valid.\",\\n      \"No, the warranty is invalid.\",\\n      \"I am not sure.\"\\n    ]\\n  }\\n]\\n\\n```'}"
      ]
     },
     "execution_count": 4,
     "metadata": {},
     "output_type": "execute_result"
    }
   ],
   "source": [
    "conditions = ask_condition({\"product\": product, \"n_top\": n})\n",
    "conditions"
   ]
  },
  {
   "cell_type": "markdown",
   "id": "1cdfc273-66d6-4c77-b94d-6d9b0e1009af",
   "metadata": {},
   "source": [
    "# Test"
   ]
  },
  {
   "cell_type": "code",
   "execution_count": 7,
   "id": "457582ef-2a6d-4c0f-bd6e-959ca98288f9",
   "metadata": {},
   "outputs": [
    {
     "name": "stdout",
     "output_type": "stream",
     "text": [
      "6 6\n"
     ]
    }
   ],
   "source": [
    "from botcore.utils.json_parser import parse_nested_json\n",
    "\n",
    "feats = parse_nested_json(features['result'])\n",
    "conds = parse_nested_json(conditions['result'])\n",
    "\n",
    "def get_sample_qa(feats):\n",
    "    ques_feat = [f['question'] for f in feats]\n",
    "    ans_feat = [f['options'][0] for f in feats]\n",
    "    return ques_feat, ans_feat\n",
    "\n",
    "ques_feat, ans_feat = get_sample_qa(feats)\n",
    "ques_cond, ans_cond = get_sample_qa(conds)\n",
    "questions = [*ques_feat, *ques_cond]\n",
    "answers = [*ans_feat, *ans_cond]"
   ]
  },
  {
   "cell_type": "code",
   "execution_count": 3,
   "id": "7ddf3e7a-171a-4819-9168-d20226549973",
   "metadata": {},
   "outputs": [
    {
     "ename": "NameError",
     "evalue": "name 'memory' is not defined",
     "output_type": "error",
     "traceback": [
      "\u001b[0;31m---------------------------------------------------------------------------\u001b[0m",
      "\u001b[0;31mNameError\u001b[0m                                 Traceback (most recent call last)",
      "\u001b[0;32m/tmp/ipykernel_13424/2672925935.py\u001b[0m in \u001b[0;36m<module>\u001b[0;34m\u001b[0m\n\u001b[1;32m     13\u001b[0m )\n\u001b[1;32m     14\u001b[0m \u001b[0;34m\u001b[0m\u001b[0m\n\u001b[0;32m---> 15\u001b[0;31m \u001b[0mtalk_chain\u001b[0m \u001b[0;34m=\u001b[0m \u001b[0mLLMChain\u001b[0m\u001b[0;34m(\u001b[0m\u001b[0mllm\u001b[0m\u001b[0;34m=\u001b[0m\u001b[0mMODEL\u001b[0m\u001b[0;34m,\u001b[0m \u001b[0mprompt\u001b[0m\u001b[0;34m=\u001b[0m\u001b[0mprompt\u001b[0m\u001b[0;34m,\u001b[0m \u001b[0mverbose\u001b[0m\u001b[0;34m=\u001b[0m\u001b[0;32mTrue\u001b[0m\u001b[0;34m,\u001b[0m \u001b[0mmemory\u001b[0m\u001b[0;34m=\u001b[0m\u001b[0mmemory\u001b[0m\u001b[0;34m)\u001b[0m\u001b[0;34m\u001b[0m\u001b[0;34m\u001b[0m\u001b[0m\n\u001b[0m",
      "\u001b[0;31mNameError\u001b[0m: name 'memory' is not defined"
     ]
    }
   ],
   "source": [
    "from langchain.memory import ConversationBufferMemory\n",
    "from langchain import OpenAI, LLMChain, PromptTemplate\n",
    "from botcore.utils.memory_utils import QAMemory\n",
    "\n",
    "template = \"\"\"You are a secondhand dealer and having a conversation with a customer.\n",
    "\n",
    "{chat_history}\n",
    "Human: {human_input}\n",
    "Answer:\"\"\"\n",
    "\n",
    "prompt = PromptTemplate(\n",
    "    input_variables=[\"chat_history\", \"human_input\"], template=template\n",
    ")\n",
    "\n",
    "talk_chain = LLMChain(llm=MODEL, prompt=prompt, verbose=True, memory=memory)"
   ]
  },
  {
   "cell_type": "code",
   "execution_count": 9,
   "id": "3d12b009-6a55-4284-b49b-bee028ddadf4",
   "metadata": {},
   "outputs": [
    {
     "data": {
      "text/plain": [
       "[AIMessage(content='What is the screen size?', additional_kwargs={}, example=False),\n",
       " HumanMessage(content='14 inch', additional_kwargs={}, example=False),\n",
       " AIMessage(content='What is the RAM size?', additional_kwargs={}, example=False),\n",
       " HumanMessage(content='4 GB', additional_kwargs={}, example=False),\n",
       " AIMessage(content='What is the processor speed?', additional_kwargs={}, example=False),\n",
       " HumanMessage(content='2.5 GHz', additional_kwargs={}, example=False),\n",
       " AIMessage(content='What are the noticeable malfunctions?', additional_kwargs={}, example=False),\n",
       " HumanMessage(content='The laptop does not power on.', additional_kwargs={}, example=False),\n",
       " AIMessage(content='What are the physical damages?', additional_kwargs={}, example=False),\n",
       " HumanMessage(content='The laptop is cracked.', additional_kwargs={}, example=False),\n",
       " AIMessage(content='Is the warranty valid?', additional_kwargs={}, example=False),\n",
       " HumanMessage(content='Yes, the warranty is valid.', additional_kwargs={}, example=False),\n",
       " HumanMessage(content='I have this used laptop of mine. Please ask me some questions about it.', additional_kwargs={}, example=False)]"
      ]
     },
     "execution_count": 9,
     "metadata": {},
     "output_type": "execute_result"
    }
   ],
   "source": [
    "memory.chat_memory.messages\n",
    "# ans = talk_chain({\"human_input\": \"What is my product?\"})\n",
    "# ans"
   ]
  }
 ],
 "metadata": {
  "kernelspec": {
   "display_name": "Python 3 (ipykernel)",
   "language": "python",
   "name": "python3"
  },
  "language_info": {
   "codemirror_mode": {
    "name": "ipython",
    "version": 3
   },
   "file_extension": ".py",
   "mimetype": "text/x-python",
   "name": "python",
   "nbconvert_exporter": "python",
   "pygments_lexer": "ipython3",
   "version": "3.10.6"
  }
 },
 "nbformat": 4,
 "nbformat_minor": 5
}
