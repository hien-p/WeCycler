{
 "cells": [
  {
   "cell_type": "code",
   "execution_count": 1,
   "id": "ba23ffd6-f09f-4e53-8ca1-3ac9d4b62e3a",
   "metadata": {},
   "outputs": [
    {
     "name": "stdout",
     "output_type": "stream",
     "text": [
      "Enable tracing at vechai\n",
      "AI21 ready\n",
      "Load done\n"
     ]
    }
   ],
   "source": [
    "import sys\n",
    "sys.path.append('../')\n",
    "from botcore.setup import trace_ai21\n",
    "from botcore.bot_agent import AgentBot\n",
    "from botcore.utils.memory_utils import QAMemory\n",
    "\n",
    "data = {\n",
    "  \"title\": \"Old phone\",\n",
    "  \"features\": [\n",
    "    \"What is the screen size? 2.8 inches\",\n",
    "    \"What is the RAM size? 512 MB\",\n",
    "    \"What is the storage capacity? 4 GB\",\n",
    "    \"What is the battery capacity? 1500 mAh\",\n",
    "    \"Is there any malfunction or defect? yes\",\n",
    "    \"What is the current physical condition of the product? excellent\",\n",
    "    \"Is the product still under warranty? yes\"\n",
    "  ]\n",
    "}\n",
    "\n",
    "MODEL = trace_ai21()\n",
    "\n",
    "ques = [i.split(\"?\")[0] for i in data['features']]\n",
    "ans = [i.split(\"?\")[1] for i in data['features']]\n",
    "qa_mem = QAMemory('question')\n",
    "\n",
    "\n",
    "qa_mem.load_all(data['title'], ques, ans)"
   ]
  },
  {
   "cell_type": "code",
   "execution_count": 2,
   "id": "5cbb3de8-63af-457a-ba18-784e9430e9f7",
   "metadata": {},
   "outputs": [],
   "source": [
    "# import sys\n",
    "sys.path.append('../')\n",
    "from botcore.setup import trace_ai21\n",
    "from langchain.chains import ConversationChain, LLMChain\n",
    "from langchain.prompts import PromptTemplate\n",
    "\n",
    "TEMPLATE = \"\"\" You are a secondhand dealer, an environmentalist.\n",
    "You can answer many types of question about environemnt, recycling and secondhand product in general very well.\n",
    "You are having a conversation with a user.\n",
    "Based on your questions and user answers from the chat history.\n",
    " {chat_history}\n",
    "\n",
    " Given the question: {question}.\n",
    " Please give your best answer to the given question, along with an explanation for your answer.\"\"\"\n",
    "\n",
    "prompt = PromptTemplate(input_variables=[\"question\",\"chat_history\"], template=TEMPLATE)\n",
    "chain = LLMChain(llm=MODEL, prompt=prompt, memory=qa_mem.memory)"
   ]
  },
  {
   "cell_type": "code",
   "execution_count": 3,
   "id": "82b06c6f-325c-4972-871d-71bd9328063a",
   "metadata": {},
   "outputs": [
    {
     "data": {
      "text/plain": [
       "'\\nYou can recycle your old phone by bringing it to a certified electronics recycler, who will safely dispose of it. You can also sell it or donate it if it is still in working condition.'"
      ]
     },
     "execution_count": 3,
     "metadata": {},
     "output_type": "execute_result"
    }
   ],
   "source": [
    "ans = chain.run(\"Give me some recycling advice\")\n",
    "ans"
   ]
  },
  {
   "cell_type": "code",
   "execution_count": 3,
   "id": "f95e49ab-630f-4ba0-89de-a32f51bb5bbd",
   "metadata": {},
   "outputs": [
    {
     "data": {
      "text/plain": [
       "'\\nYour product is an old phone with a 2.8-inch screen, 512 MB of RAM, 4 GB of storage, and a 1500 mAh battery. It is in excellent condition and is still under warranty. However, due to its low RAM and storage capacity, it may not be in high demand and may be difficult to sell at a high price.'"
      ]
     },
     "execution_count": 3,
     "metadata": {},
     "output_type": "execute_result"
    }
   ],
   "source": [
    "ans = chain.run(\"What is my product and do you think it will be sold at a high price\")\n",
    "ans"
   ]
  }
 ],
 "metadata": {
  "kernelspec": {
   "display_name": "Python 3 (ipykernel)",
   "language": "python",
   "name": "python3"
  },
  "language_info": {
   "codemirror_mode": {
    "name": "ipython",
    "version": 3
   },
   "file_extension": ".py",
   "mimetype": "text/x-python",
   "name": "python",
   "nbconvert_exporter": "python",
   "pygments_lexer": "ipython3",
   "version": "3.10.6"
  }
 },
 "nbformat": 4,
 "nbformat_minor": 5
}
