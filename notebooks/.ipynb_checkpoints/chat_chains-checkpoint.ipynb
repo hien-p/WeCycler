{
 "cells": [
  {
   "cell_type": "markdown",
   "id": "07294859-616e-47bd-a5ee-6de63648bcbc",
   "metadata": {},
   "source": [
    "# Chain"
   ]
  },
  {
   "cell_type": "code",
   "execution_count": 1,
   "id": "30c80465-a8b8-4004-af06-eaeea6089d74",
   "metadata": {},
   "outputs": [
    {
     "name": "stdout",
     "output_type": "stream",
     "text": [
      "AI21 ready\n",
      "Enable tracing at assess\n",
      "Load done\n"
     ]
    }
   ],
   "source": [
    "import sys\n",
    "sys.path.append('../')\n",
    "from botcore.setup import get_ai21_model, enable_tracing\n",
    "from botcore.utils.json_parser import parse_nested_json\n",
    "from botcore.utils.memory_utils import QAMemory\n",
    "from botcore.utils.prompt_utils import build_prompt\n",
    "MODEL = get_ai21_model(max_tokens = 400)\n",
    "enable_tracing(\"assess\")\n",
    "\n",
    "\n",
    "SAMPLE = '\\n\\n```\\n[\\n  {\\n    \"question\": \"Has the washing machine ever broken down?\",\\n    \"options\": [\\n      \"yes\",\\n      \"no\"\\n    ]\\n  },\\n  {\\n    \"question\": \"What is the current physical condition of the washing machine?\",\\n    \"options\": [\\n      \"excellent\",\\n      \"good\",\\n      \"fair\",\\n      \"poor\"\\n    ]\\n  },\\n  {\\n    \"question\": \"Does the washing machine have a warranty?\",\\n    \"options\": [\\n      \"yes\",\\n      \"no\"\\n    ]\\n  },\\n  {\\n    \"question\": \"If the washing machine has a warranty, what is the warranty period?\",\\n    \"options\": [\\n      \"1 year\",\\n      \"2 years\",\\n      \"3 years\",\\n      \"4 years\",\\n      \"5 years\"\\n    ]\\n  }\\n]\\n\\n```'\n",
    "DATA = parse_nested_json(SAMPLE)\n",
    "# print(SAMPLE)\n",
    "product = \"washing machine\"\n",
    "ques = [e['question'] for e in DATA]\n",
    "ans = [e['options'][0] for e in DATA]\n",
    "\n",
    "bot_memory = QAMemory(\"question\")\n",
    "bot_memory.load_all(product, ques, ans)\n"
   ]
  },
  {
   "cell_type": "markdown",
   "id": "30794c83-f791-4a04-9e70-70ea902a436b",
   "metadata": {},
   "source": [
    "# Assess Electronic"
   ]
  },
  {
   "cell_type": "code",
   "execution_count": 3,
   "id": "1374202c-2b3a-478a-97ed-0d122f96690c",
   "metadata": {},
   "outputs": [],
   "source": [
    "from botcore.chains.assess_usage import build_assess_elec_usage\n",
    "chain = build_assess_elec_usage(MODEL, bot_memory.memory)"
   ]
  },
  {
   "cell_type": "markdown",
   "id": "b504f79e-dab5-4595-ae85-c21d74c1f5c5",
   "metadata": {},
   "source": [
    "# Pros and cons"
   ]
  },
  {
   "cell_type": "code",
   "execution_count": 2,
   "id": "65a96a84-f9a1-43c9-93e7-22c60813c709",
   "metadata": {},
   "outputs": [],
   "source": [
    "from botcore.chains.pros_cons import build_pros_cons_chain\n",
    "chain = build_pros_cons_chain(MODEL, bot_memory.memory)"
   ]
  },
  {
   "cell_type": "markdown",
   "id": "23bd312b-296a-43ab-a356-bee1d6bd156d",
   "metadata": {},
   "source": [
    "# Router"
   ]
  },
  {
   "cell_type": "code",
   "execution_count": 2,
   "id": "d5ea4c0f-d69d-42f9-9dda-e96fb5f025b7",
   "metadata": {},
   "outputs": [
    {
     "name": "stdout",
     "output_type": "stream",
     "text": [
      "Router ready\n",
      "Build done\n"
     ]
    }
   ],
   "source": [
    "from botcore.routing.chat_route import ProductChatRouter\n",
    "\n",
    "router = ProductChatRouter(MODEL,bot_memory)\n",
    "router.build_router()"
   ]
  },
  {
   "cell_type": "code",
   "execution_count": 6,
   "id": "200bd29d-edd6-4ba2-bc8d-a2111efccba3",
   "metadata": {},
   "outputs": [
    {
     "name": "stdout",
     "output_type": "stream",
     "text": [
      "\n",
      "\n",
      "\u001b[1m> Entering new  chain...\u001b[0m\n"
     ]
    },
    {
     "name": "stderr",
     "output_type": "stream",
     "text": [
      "/home/h4438/.local/lib/python3.10/site-packages/langchain/chains/llm.py:275: UserWarning: The predict_and_parse method is deprecated, instead pass an output parser directly to LLMChain.\n",
      "  warnings.warn(\n"
     ]
    },
    {
     "name": "stdout",
     "output_type": "stream",
     "text": [
      "pros and cons: {'input': 'Please give a list of pros and cons.', 'question': 'Please give a list of pros and cons.'}\n",
      "\n",
      "\u001b[1m> Entering new  chain...\u001b[0m\n",
      "Prompt after formatting:\n",
      "\u001b[32;1m\u001b[1;3mYou are a secondhand dealer and assessing the user's product. Based on your questions and user answers from the chat history.\n",
      " Human: I have this used washing machine of mine. Please ask me some questions about it.\n",
      "AI: Has the washing machine ever broken down?\n",
      "Human: yes\n",
      "AI: What is the current physical condition of the washing machine?\n",
      "Human: excellent\n",
      "AI: Does the washing machine have a warranty?\n",
      "Human: yes\n",
      "AI: If the washing machine has a warranty, what is the warranty period?\n",
      "Human: 1 year\n",
      " Please give your best answer.\n",
      " The output should be a markdown code snippet formatted in the following schema, including the leading and trailing \"```json\" and \"```\":\n",
      "\n",
      "```json\n",
      "{\n",
      "\t\"pros\": string  // a js array of the product's pros based on the chat history.\n",
      "\t\"cons\": string  // a js array of the product's cons based on the chat history.\n",
      "\t\"overview\": string  // What is your overview on the product.\n",
      "}\n",
      "```\n",
      " Question: Please give a list of pros and cons..\u001b[0m\n",
      "\n",
      "\u001b[1m> Finished chain.\u001b[0m\n",
      "\n",
      "\u001b[1m> Finished chain.\u001b[0m\n"
     ]
    },
    {
     "data": {
      "text/plain": [
       "{'input': 'Please give a list of pros and cons.',\n",
       " 'question': 'Please give a list of pros and cons.',\n",
       " 'chat_history': 'Human: I have this used washing machine of mine. Please ask me some questions about it.\\nAI: Has the washing machine ever broken down?\\nHuman: yes\\nAI: What is the current physical condition of the washing machine?\\nHuman: excellent\\nAI: Does the washing machine have a warranty?\\nHuman: yes\\nAI: If the washing machine has a warranty, what is the warranty period?\\nHuman: 1 year',\n",
       " 'text': '\\n```\\n{\\n \"pros\": [\\n  \"excellent\"\\n ],\\n \"cons\": [\\n  \"has broken down\"\\n ],\\n \"overview\": \"The washing machine is in good condition, but it has broken down before.\"\\n}\\n\\n```'}"
      ]
     },
     "execution_count": 6,
     "metadata": {},
     "output_type": "execute_result"
    }
   ],
   "source": [
    "ans = router.chain({\"input\": \"Please give a list of pros and cons.\"})\n",
    "ans"
   ]
  }
 ],
 "metadata": {
  "kernelspec": {
   "display_name": "Python 3 (ipykernel)",
   "language": "python",
   "name": "python3"
  },
  "language_info": {
   "codemirror_mode": {
    "name": "ipython",
    "version": 3
   },
   "file_extension": ".py",
   "mimetype": "text/x-python",
   "name": "python",
   "nbconvert_exporter": "python",
   "pygments_lexer": "ipython3",
   "version": "3.10.6"
  }
 },
 "nbformat": 4,
 "nbformat_minor": 5
}
