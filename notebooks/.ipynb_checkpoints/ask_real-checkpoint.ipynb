{
 "cells": [
  {
   "cell_type": "code",
   "execution_count": 8,
   "id": "e7d1533d-cc2a-4dbd-83be-d2ec50542061",
   "metadata": {},
   "outputs": [
    {
     "name": "stdout",
     "output_type": "stream",
     "text": [
      "AI21 ready\n",
      "Enable tracing at ask_demo\n",
      "Features explorer ready\n"
     ]
    }
   ],
   "source": [
    "import sys\n",
    "sys.path.append('../')\n",
    "from botcore.setup import get_ai21_model, enable_tracing\n",
    "from botcore.bot_redis import connect_redis\n",
    "from botcore.routing.explore_route import FeatureExplorer\n",
    "\n",
    "\n",
    "MODEL = get_ai21_model(max_tokens = 400)\n",
    "enable_tracing(\"ask_demo\")\n",
    "\n",
    "db = connect_redis()\n",
    "explorer = FeatureExplorer(MODEL, db)"
   ]
  },
  {
   "cell_type": "code",
   "execution_count": 2,
   "id": "cd7cd549-77f6-4af6-a0fe-f35d879ee0d1",
   "metadata": {},
   "outputs": [],
   "source": [
    "product = 'washing machine'\n",
    "feat, cond = explorer.ask_user(product, 4)"
   ]
  },
  {
   "cell_type": "code",
   "execution_count": 5,
   "id": "a1bf5c6c-00a8-45d0-a0a0-5e368ec39533",
   "metadata": {},
   "outputs": [
    {
     "data": {
      "text/plain": [
       "[{'question': 'What is the screen size?',\n",
       "  'options': ['2.8 inches',\n",
       "   '3.5 inches',\n",
       "   '4.0 inches',\n",
       "   '4.7 inches',\n",
       "   '5.5 inches']},\n",
       " {'question': 'What is the RAM size?',\n",
       "  'options': ['512 MB', '1 GB', '2 GB', '4 GB', '8 GB']},\n",
       " {'question': 'What is the storage capacity?',\n",
       "  'options': ['4 GB', '8 GB', '16 GB', '32 GB', '64 GB']},\n",
       " {'question': 'What is the battery capacity?',\n",
       "  'options': ['1500 mAh', '2000 mAh', '2500 mAh', '3000 mAh', '3500 mAh']}]"
      ]
     },
     "execution_count": 5,
     "metadata": {},
     "output_type": "execute_result"
    }
   ],
   "source": [
    "feat['questions']"
   ]
  },
  {
   "cell_type": "code",
   "execution_count": 6,
   "id": "43f2cdab-6801-42e4-97ce-c27a2bec565b",
   "metadata": {},
   "outputs": [
    {
     "data": {
      "text/plain": [
       "[{'question': 'Is there any malfunction or defect?', 'options': ['yes', 'no']},\n",
       " {'question': 'What is the current physical condition of the product?',\n",
       "  'options': ['excellent', 'good', 'fair', 'poor']},\n",
       " {'question': 'Is the product still under warranty?',\n",
       "  'options': ['yes', 'no']}]"
      ]
     },
     "execution_count": 6,
     "metadata": {},
     "output_type": "execute_result"
    }
   ],
   "source": [
    "cond['questions']"
   ]
  }
 ],
 "metadata": {
  "kernelspec": {
   "display_name": "Python 3 (ipykernel)",
   "language": "python",
   "name": "python3"
  },
  "language_info": {
   "codemirror_mode": {
    "name": "ipython",
    "version": 3
   },
   "file_extension": ".py",
   "mimetype": "text/x-python",
   "name": "python",
   "nbconvert_exporter": "python",
   "pygments_lexer": "ipython3",
   "version": "3.10.6"
  }
 },
 "nbformat": 4,
 "nbformat_minor": 5
}
