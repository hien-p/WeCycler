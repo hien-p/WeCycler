{
 "cells": [
  {
   "cell_type": "markdown",
   "id": "5b59914d-a0e4-4a41-9940-4c1df9310d9e",
   "metadata": {},
   "source": [
    "# Asking user full demo\n",
    "1. ask product feature\n",
    "2. ask product condition\n",
    "3. collect qa -> json\n",
    "4. "
   ]
  },
  {
   "cell_type": "code",
   "execution_count": 10,
   "id": "cdabc20d-a0f7-4f55-89a4-c96ca18328db",
   "metadata": {},
   "outputs": [
    {
     "name": "stdout",
     "output_type": "stream",
     "text": [
      "AI21 ready\n",
      "Enable tracing at ask_demo\n"
     ]
    }
   ],
   "source": [
    "import sys\n",
    "sys.path.append('../')\n",
    "from botcore.setup import get_ai21_model, enable_tracing\n",
    "\n",
    "MODEL = get_ai21_model(max_tokens = 400)\n",
    "enable_tracing(\"ask_demo\")\n",
    "\n",
    "from botcore.chains.qa_feature import build_ask_feature_chain\n",
    "from botcore.chains.qa_condition import build_ask_condition_chain\n",
    "\n",
    "from botcore.bot_redis import connect_redis\n",
    "from botcore.routing.explore_route import FeatureExplorer\n",
    "\n",
    "product = \"phone\"\n",
    "n = 4\n"
   ]
  },
  {
   "cell_type": "markdown",
   "id": "23169c11-fdc0-4b15-819e-03ae9bbc4291",
   "metadata": {},
   "source": [
    "# RUN"
   ]
  },
  {
   "cell_type": "code",
   "execution_count": 11,
   "id": "b2eb05cf-a984-416a-ace3-594fc3e597a6",
   "metadata": {},
   "outputs": [],
   "source": [
    "\n",
    "ask_feature = build_ask_feature_chain(MODEL)\n",
    "ask_condition = build_ask_condition_chain(MODEL)\n",
    "\n",
    "features = ask_feature({\"product\": product, \"n_top\": n})\n",
    "conditions = ask_condition({\"product\": product, \"n_top\": n})\n"
   ]
  },
  {
   "cell_type": "code",
   "execution_count": 12,
   "id": "5bce7f2a-2b1a-4f65-8451-9e10089b8523",
   "metadata": {},
   "outputs": [
    {
     "data": {
      "text/plain": [
       "{'chain': 'ask_feature',\n",
       " 'questions': [{'question': 'What is the screen size?',\n",
       "   'options': ['5.5 inches',\n",
       "    '6 inches',\n",
       "    '6.5 inches',\n",
       "    '7 inches',\n",
       "    '7.5 inches']},\n",
       "  {'question': 'What is the RAM size?',\n",
       "   'options': ['2 GB', '3 GB', '4 GB', '6 GB', '8 GB']},\n",
       "  {'question': 'What is the storage capacity?',\n",
       "   'options': ['16 GB', '32 GB', '64 GB', '128 GB', '256 GB']},\n",
       "  {'question': 'What is the battery capacity?',\n",
       "   'options': ['2000 mAh', '3000 mAh', '4000 mAh', '5000 mAh', '6000 mAh']}]}"
      ]
     },
     "execution_count": 12,
     "metadata": {},
     "output_type": "execute_result"
    }
   ],
   "source": [
    "from botcore.utils.json_parser import parse_nested_json\n",
    "feat = parse_nested_json(features['result'])\n",
    "feat"
   ]
  },
  {
   "cell_type": "code",
   "execution_count": 13,
   "id": "2cb69837-8ece-468b-ada5-ab92838d1d49",
   "metadata": {},
   "outputs": [
    {
     "data": {
      "text/plain": [
       "{'chain': 'ask_condition',\n",
       " 'questions': [{'question': 'Is the phone fully functional?',\n",
       "   'options': ['Yes', 'No']},\n",
       "  {'question': 'Is the phone in good condition?',\n",
       "   'options': ['Excellent', 'Good', 'Fair', 'Poor']},\n",
       "  {'question': 'Does the phone have any defects?', 'options': ['Yes', 'No']},\n",
       "  {'question': 'Is the phone still under warranty?',\n",
       "   'options': ['Yes', 'No']}]}"
      ]
     },
     "execution_count": 13,
     "metadata": {},
     "output_type": "execute_result"
    }
   ],
   "source": [
    "cond = parse_nested_json(conditions['result'])\n",
    "cond"
   ]
  },
  {
   "cell_type": "markdown",
   "id": "2b4a771e-4dcf-4f20-8ed0-405de169615d",
   "metadata": {},
   "source": [
    "# Cache"
   ]
  },
  {
   "cell_type": "code",
   "execution_count": 6,
   "id": "42741158-c6d3-4d7b-b1bc-ff729eff7e7e",
   "metadata": {},
   "outputs": [
    {
     "name": "stdout",
     "output_type": "stream",
     "text": [
      "Features explorer ready\n"
     ]
    }
   ],
   "source": [
    "db = connect_redis()\n",
    "explorer = FeatureExplorer(MODEL, db)\n",
    "feat, cond = explorer.ask_user(\"washing machine\", 2)"
   ]
  },
  {
   "cell_type": "code",
   "execution_count": 7,
   "id": "0eb26171-9985-41ab-bb05-5de933c2972e",
   "metadata": {},
   "outputs": [
    {
     "data": {
      "text/plain": [
       "[{'question': 'Has the washing machine ever broken down?',\n",
       "  'options': ['yes', 'no']},\n",
       " {'question': 'Is the washing machine still under warranty?',\n",
       "  'options': ['yes', 'no']}]"
      ]
     },
     "execution_count": 7,
     "metadata": {},
     "output_type": "execute_result"
    }
   ],
   "source": [
    "cond"
   ]
  },
  {
   "cell_type": "code",
   "execution_count": null,
   "id": "43d04dd5-2f62-48eb-a89e-65ca91a3d61b",
   "metadata": {},
   "outputs": [],
   "source": []
  },
  {
   "cell_type": "markdown",
   "id": "bcc349a4-ab2a-4fe7-803f-3b5852d89e44",
   "metadata": {},
   "source": [
    "# Load"
   ]
  },
  {
   "cell_type": "code",
   "execution_count": 6,
   "id": "d7241a8b-d90c-4f63-9e17-c8c604cf7b10",
   "metadata": {},
   "outputs": [
    {
     "name": "stdout",
     "output_type": "stream",
     "text": [
      "Load done\n"
     ]
    }
   ],
   "source": [
    "from botcore.utils.json_parser import parse_nested_json\n",
    "\n",
    "DATA = parse_nested_json(conditions['result'])\n",
    "# DATA\n",
    "ques = [e['question'] for e in DATA]\n",
    "ans = [e['options'][0] for e in DATA]\n",
    "bot_memory = QAMemory(\"question\")\n",
    "bot_memory.load_all(product, ques, ans)\n"
   ]
  },
  {
   "cell_type": "code",
   "execution_count": 7,
   "id": "0b9b072d-6f82-4285-8a6b-428bb66416d8",
   "metadata": {},
   "outputs": [
    {
     "name": "stdout",
     "output_type": "stream",
     "text": [
      "Router ready\n",
      "Build done\n"
     ]
    }
   ],
   "source": [
    "from botcore.routing.chat_route import ProductChatRouter\n",
    "\n",
    "router = ProductChatRouter(MODEL,bot_memory)\n",
    "router.build_router()"
   ]
  },
  {
   "cell_type": "code",
   "execution_count": 8,
   "id": "0aa1d72b-93aa-4f23-ba7f-cc81446b48e2",
   "metadata": {},
   "outputs": [
    {
     "name": "stdout",
     "output_type": "stream",
     "text": [
      "\n",
      "\n",
      "\u001b[1m> Entering new  chain...\u001b[0m\n"
     ]
    },
    {
     "name": "stderr",
     "output_type": "stream",
     "text": [
      "/home/h4438/.local/lib/python3.10/site-packages/langchain/chains/llm.py:275: UserWarning: The predict_and_parse method is deprecated, instead pass an output parser directly to LLMChain.\n",
      "  warnings.warn(\n"
     ]
    },
    {
     "name": "stdout",
     "output_type": "stream",
     "text": [
      "pros and cons: {'input': 'Please give a list of pros and cons.', 'question': 'Please give a list of pros and cons.'}\n",
      "\n",
      "\u001b[1m> Entering new  chain...\u001b[0m\n",
      "Prompt after formatting:\n",
      "\u001b[32;1m\u001b[1;3mYou are a secondhand dealer and assessing the user's product. Based on your questions and user answers from the chat history.\n",
      " Human: I have this used fridge of mine. Please ask me some questions about it.\n",
      "AI: Is the fridge making any unusual noises?\n",
      "Human: yes\n",
      "AI: Is the fridge cooling properly?\n",
      "Human: yes\n",
      "AI: Is the fridge making any unusual noises?\n",
      "Human: yes\n",
      "AI: Is the fridge cooling properly?\n",
      "Human: yes\n",
      " Please give your best answer.\n",
      " The output should be a markdown code snippet formatted in the following schema, including the leading and trailing \"```json\" and \"```\":\n",
      "\n",
      "```json\n",
      "{\n",
      "\t\"pros\": string  // a js array of the product's pros based on the chat history.\n",
      "\t\"cons\": string  // a js array of the product's cons based on the chat history.\n",
      "\t\"overview\": string  // What is your overview on the product.\n",
      "}\n",
      "```\n",
      " Question: Please give a list of pros and cons..\u001b[0m\n",
      "\n",
      "\u001b[1m> Finished chain.\u001b[0m\n",
      "\n",
      "\u001b[1m> Finished chain.\u001b[0m\n"
     ]
    },
    {
     "data": {
      "text/plain": [
       "{'input': 'Please give a list of pros and cons.',\n",
       " 'question': 'Please give a list of pros and cons.',\n",
       " 'chat_history': 'Human: I have this used fridge of mine. Please ask me some questions about it.\\nAI: Is the fridge making any unusual noises?\\nHuman: yes\\nAI: Is the fridge cooling properly?\\nHuman: yes\\nAI: Is the fridge making any unusual noises?\\nHuman: yes\\nAI: Is the fridge cooling properly?\\nHuman: yes',\n",
       " 'text': '\\n```\\n{\\n \"pros\": [\\n  \"large capacity\",\\n  \"energy efficient\",\\n  \"quiet operation\"\\n ],\\n \"cons\": [\\n  \"noisy\"\\n ],\\n \"overview\": \"The fridge is large capacity, energy efficient and quiet, but it\\'s noisy.\"\\n}\\n\\n```'}"
      ]
     },
     "execution_count": 8,
     "metadata": {},
     "output_type": "execute_result"
    }
   ],
   "source": [
    "ans = router.chain({\"input\": \"Please give a list of pros and cons.\"})\n",
    "ans"
   ]
  }
 ],
 "metadata": {
  "kernelspec": {
   "display_name": "Python 3 (ipykernel)",
   "language": "python",
   "name": "python3"
  },
  "language_info": {
   "codemirror_mode": {
    "name": "ipython",
    "version": 3
   },
   "file_extension": ".py",
   "mimetype": "text/x-python",
   "name": "python",
   "nbconvert_exporter": "python",
   "pygments_lexer": "ipython3",
   "version": "3.10.6"
  }
 },
 "nbformat": 4,
 "nbformat_minor": 5
}
